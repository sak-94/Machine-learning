{
 "cells": [
  {
   "cell_type": "code",
   "execution_count": 1,
   "id": "95ae9e0f",
   "metadata": {},
   "outputs": [],
   "source": [
    "import numpy as np\n",
    "import pickle\n",
    "import pandas as pd"
   ]
  },
  {
   "cell_type": "code",
   "execution_count": 2,
   "id": "b16cfff1",
   "metadata": {},
   "outputs": [],
   "source": [
    "number_courses= 5\n",
    "time_study= 7"
   ]
  },
  {
   "cell_type": "code",
   "execution_count": 3,
   "id": "bebeddc5",
   "metadata": {},
   "outputs": [],
   "source": [
    "x = np.array([[number_courses,time_study]])"
   ]
  },
  {
   "cell_type": "code",
   "execution_count": 4,
   "id": "139c70a1",
   "metadata": {},
   "outputs": [],
   "source": [
    "model1 = pickle.load(open('model1.pkl', 'rb'))"
   ]
  },
  {
   "cell_type": "code",
   "execution_count": 5,
   "id": "a7b3e415",
   "metadata": {},
   "outputs": [],
   "source": [
    "y_prediction = model1.predict(x)"
   ]
  },
  {
   "cell_type": "code",
   "execution_count": 6,
   "id": "938a8e89",
   "metadata": {},
   "outputs": [
    {
     "data": {
      "text/plain": [
       "array([[39.66936793]])"
      ]
     },
     "execution_count": 6,
     "metadata": {},
     "output_type": "execute_result"
    }
   ],
   "source": [
    "y_prediction"
   ]
  },
  {
   "cell_type": "code",
   "execution_count": null,
   "id": "a4c065fa",
   "metadata": {},
   "outputs": [],
   "source": []
  }
 ],
 "metadata": {
  "kernelspec": {
   "display_name": "Python 3 (ipykernel)",
   "language": "python",
   "name": "python3"
  },
  "language_info": {
   "codemirror_mode": {
    "name": "ipython",
    "version": 3
   },
   "file_extension": ".py",
   "mimetype": "text/x-python",
   "name": "python",
   "nbconvert_exporter": "python",
   "pygments_lexer": "ipython3",
   "version": "3.9.7"
  }
 },
 "nbformat": 4,
 "nbformat_minor": 5
}
